{
 "cells": [
  {
   "cell_type": "markdown",
   "id": "a0a740bc",
   "metadata": {},
   "source": [
    "* # **Try/Except Example**"
   ]
  },
  {
   "cell_type": "code",
   "execution_count": 5,
   "id": "2444b2b7-3e12-4ca9-af31-97ad87af5cfa",
   "metadata": {},
   "outputs": [
    {
     "name": "stdout",
     "output_type": "stream",
     "text": [
      "1.0\n",
      "Error! You have tried to divide by zero.\n",
      "None\n",
      "3.5\n"
     ]
    }
   ],
   "source": [
    "def div42by(divideby):\n",
    "    try:\n",
    "        return 42/divideby\n",
    "    except ZeroDivisionError:\n",
    "        print(\"Error! You have tried to divide by zero.\")\n",
    "\n",
    "        \n",
    "        \n",
    "print(div42by(42))\n",
    "print(div42by(0))\n",
    "print(div42by(12))        "
   ]
  },
  {
   "cell_type": "code",
   "execution_count": 8,
   "id": "354bd82a",
   "metadata": {},
   "outputs": [
    {
     "name": "stdout",
     "output_type": "stream",
     "text": [
      "How many cats do you have?\n",
      "five\n",
      "Error! You did not enter a number.\n"
     ]
    }
   ],
   "source": [
    "print(\"How many cats do you have?\")\n",
    "numCats = input()\n",
    "\n",
    "try: \n",
    "    if int(numCats) >= 4:\n",
    "        print(\"That is a lot to cats.\")\n",
    "    else:\n",
    "        print(\"That is not a lot of cats.\")\n",
    "except ValueError:\n",
    "    print(\"Error! You did not enter a number.\")"
   ]
  },
  {
   "cell_type": "markdown",
   "id": "0ac44ac0",
   "metadata": {},
   "source": [
    "* ## **Guess the Number Game**"
   ]
  },
  {
   "cell_type": "code",
   "execution_count": 11,
   "id": "3589dbcf",
   "metadata": {},
   "outputs": [
    {
     "name": "stdout",
     "output_type": "stream",
     "text": [
      "Hello. What is your name?\n",
      "Nasif\n",
      "Well, Nasif, I am thinking of a number between 1-20.\n",
      "Take a guess.\n",
      "10\n",
      "Your guess is too low. \n",
      "Take a guess.\n",
      "15\n",
      "Your guess is too high. \n",
      "Take a guess.\n",
      "12\n",
      "Your guess is too low. \n",
      "Take a guess.\n",
      "13\n",
      "Your guess is too low. \n",
      "Take a guess.\n",
      "14\n",
      "Good Job, Nasif! You guessed my number in 5 guess.\n"
     ]
    }
   ],
   "source": [
    "# This is a guess the number game\n",
    "import random\n",
    "\n",
    "print(\"Hello. What is your name?\")\n",
    "name = input()\n",
    "\n",
    "print(\"Well, \" + name +\", I am thinking of a number between 1-20.\")\n",
    "secretNumber = random.randint(1, 20)\n",
    "# print(\"DEBUG: Secret number is \" + str(secretNumber))\n",
    "\n",
    "for guessesTaken in range(1, 7):\n",
    "    print(\"Take a guess.\")\n",
    "    guess = int(input())\n",
    "    \n",
    "    if guess < secretNumber:\n",
    "        print(\"Your guess is too low. \")\n",
    "    elif guess > secretNumber:\n",
    "        print(\"Your guess is too high. \")\n",
    "    else:\n",
    "        break\n",
    "if guess == secretNumber:\n",
    "    print(\"Good Job, \" + name + \"! You guessed my number in \" + str(guessesTaken) + \" guess.\")\n",
    "else:\n",
    "    print(\"Nope. The number I was thinking of was \" + str(secretNumber) + \".\")"
   ]
  },
  {
   "cell_type": "markdown",
   "id": "5d3130c3",
   "metadata": {},
   "source": [
    "* # **Lists**"
   ]
  },
  {
   "cell_type": "code",
   "execution_count": 12,
   "id": "eb616043",
   "metadata": {},
   "outputs": [
    {
     "data": {
      "text/plain": [
       "['cat', 'rat']"
      ]
     },
     "execution_count": 12,
     "metadata": {},
     "output_type": "execute_result"
    }
   ],
   "source": [
    "spam = ['cat', 'rat', 'bat']\n",
    "del spam[2]\n",
    "spam"
   ]
  },
  {
   "cell_type": "code",
   "execution_count": 13,
   "id": "4a3b10a8",
   "metadata": {},
   "outputs": [
    {
     "data": {
      "text/plain": [
       "['H', 'e', 'l', 'l', 'o']"
      ]
     },
     "execution_count": 13,
     "metadata": {},
     "output_type": "execute_result"
    }
   ],
   "source": [
    "list('Hello')"
   ]
  },
  {
   "cell_type": "code",
   "execution_count": 14,
   "id": "8d6e5095",
   "metadata": {},
   "outputs": [
    {
     "data": {
      "text/plain": [
       "[1, 2, 3, 4, 5, 6]"
      ]
     },
     "execution_count": 14,
     "metadata": {},
     "output_type": "execute_result"
    }
   ],
   "source": [
    "[1, 2, 3] + [4, 5, 6]"
   ]
  },
  {
   "cell_type": "code",
   "execution_count": 18,
   "id": "22232da4",
   "metadata": {},
   "outputs": [
    {
     "name": "stdout",
     "output_type": "stream",
     "text": [
      "True\n",
      "False\n"
     ]
    }
   ],
   "source": [
    "listt= [1, 2, 3]\n",
    "print(1 in listt)\n",
    "print(2 not in listt)"
   ]
  },
  {
   "cell_type": "code",
   "execution_count": 19,
   "id": "d1a1f0c5",
   "metadata": {},
   "outputs": [
    {
     "data": {
      "text/plain": [
       "range(0, 3)"
      ]
     },
     "execution_count": 19,
     "metadata": {},
     "output_type": "execute_result"
    }
   ],
   "source": [
    "range(3)"
   ]
  },
  {
   "cell_type": "code",
   "execution_count": 42,
   "id": "f00b4416",
   "metadata": {},
   "outputs": [],
   "source": [
    "spam = list(range(0, 100, 2))"
   ]
  },
  {
   "cell_type": "code",
   "execution_count": 43,
   "id": "3454c659",
   "metadata": {},
   "outputs": [
    {
     "name": "stdout",
     "output_type": "stream",
     "text": [
      "Index 0 in supplies is pens\n",
      "Index 1 in supplies is staples\n",
      "Index 2 in supplies is binders\n",
      "Index 3 in supplies is pencils\n"
     ]
    }
   ],
   "source": [
    "supplies = ['pens', 'staples', 'binders', 'pencils']\n",
    "for i in range(len(supplies)):\n",
    "    print('Index ' + str(i) + ' in supplies is ' + supplies[i])"
   ]
  },
  {
   "cell_type": "code",
   "execution_count": 44,
   "id": "3379d097",
   "metadata": {},
   "outputs": [],
   "source": [
    "pn, se, br, pl = supplies"
   ]
  },
  {
   "cell_type": "code",
   "execution_count": 45,
   "id": "a6dffb2c",
   "metadata": {},
   "outputs": [
    {
     "data": {
      "text/plain": [
       "'pens'"
      ]
     },
     "execution_count": 45,
     "metadata": {},
     "output_type": "execute_result"
    }
   ],
   "source": [
    "pn"
   ]
  },
  {
   "cell_type": "code",
   "execution_count": 46,
   "id": "ca524133",
   "metadata": {},
   "outputs": [
    {
     "data": {
      "text/plain": [
       "0"
      ]
     },
     "execution_count": 46,
     "metadata": {},
     "output_type": "execute_result"
    }
   ],
   "source": [
    "supplies.index('pens')"
   ]
  },
  {
   "cell_type": "code",
   "execution_count": 47,
   "id": "05597d0f",
   "metadata": {},
   "outputs": [
    {
     "data": {
      "text/plain": [
       "['pens', 'staples', 'binders', 'pencils', 'paper']"
      ]
     },
     "execution_count": 47,
     "metadata": {},
     "output_type": "execute_result"
    }
   ],
   "source": [
    "supplies.append('paper')\n",
    "supplies"
   ]
  },
  {
   "cell_type": "code",
   "execution_count": 48,
   "id": "24520b33",
   "metadata": {},
   "outputs": [
    {
     "data": {
      "text/plain": [
       "['pens', 'cutter', 'staples', 'binders', 'pencils', 'paper']"
      ]
     },
     "execution_count": 48,
     "metadata": {},
     "output_type": "execute_result"
    }
   ],
   "source": [
    "supplies.insert(1, 'cutter')\n",
    "supplies"
   ]
  },
  {
   "cell_type": "code",
   "execution_count": 49,
   "id": "d5cc3409",
   "metadata": {},
   "outputs": [
    {
     "data": {
      "text/plain": [
       "['pens', 'staples', 'binders', 'pencils', 'paper']"
      ]
     },
     "execution_count": 49,
     "metadata": {},
     "output_type": "execute_result"
    }
   ],
   "source": [
    "supplies.remove('cutter')\n",
    "supplies"
   ]
  },
  {
   "cell_type": "code",
   "execution_count": 57,
   "id": "bc05da54",
   "metadata": {},
   "outputs": [
    {
     "data": {
      "text/plain": [
       "[2, 3, 4, 5, 6]"
      ]
     },
     "execution_count": 57,
     "metadata": {},
     "output_type": "execute_result"
    }
   ],
   "source": [
    "numlist = [4, 3, 2, 5, 6]\n",
    "numlist.sort()\n",
    "numlist"
   ]
  },
  {
   "cell_type": "code",
   "execution_count": 58,
   "id": "b4be3bb5",
   "metadata": {},
   "outputs": [
    {
     "data": {
      "text/plain": [
       "[6, 5, 4, 3, 2]"
      ]
     },
     "execution_count": 58,
     "metadata": {},
     "output_type": "execute_result"
    }
   ],
   "source": [
    "numlist.sort(reverse=True)\n",
    "numlist"
   ]
  },
  {
   "cell_type": "code",
   "execution_count": 60,
   "id": "34f07fa9",
   "metadata": {},
   "outputs": [
    {
     "data": {
      "text/plain": [
       "['A', 'B', 'C', 'D', 'E', 'a', 'e']"
      ]
     },
     "execution_count": 60,
     "metadata": {},
     "output_type": "execute_result"
    }
   ],
   "source": [
    "strlist = ['A', 'B', 'C', 'e', 'E', 'a', 'D']\n",
    "strlist.sort() # Sort by ASCII value\n",
    "strlist"
   ]
  },
  {
   "cell_type": "code",
   "execution_count": 62,
   "id": "4998a2eb",
   "metadata": {},
   "outputs": [
    {
     "data": {
      "text/plain": [
       "['A', 'a', 'B', 'C', 'D', 'E', 'e']"
      ]
     },
     "execution_count": 62,
     "metadata": {},
     "output_type": "execute_result"
    }
   ],
   "source": [
    "strlist.sort(key=str.lower) # Sorting on Alphabetical Order\n",
    "strlist"
   ]
  },
  {
   "cell_type": "code",
   "execution_count": 64,
   "id": "4a3b7082",
   "metadata": {},
   "outputs": [
    {
     "data": {
      "text/plain": [
       "['A', 'B', 'C', 'D']"
      ]
     },
     "execution_count": 64,
     "metadata": {},
     "output_type": "execute_result"
    }
   ],
   "source": [
    "import copy\n",
    "spam = ['A', 'B', 'C', 'D']\n",
    "cheese = copy.deepcopy(spam)\n",
    "cheese"
   ]
  },
  {
   "cell_type": "code",
   "execution_count": 67,
   "id": "329f1910",
   "metadata": {},
   "outputs": [
    {
     "name": "stdout",
     "output_type": "stream",
     "text": [
      "line continuation continue...\n"
     ]
    }
   ],
   "source": [
    "print('line continuation' + \\\n",
    "     ' continue...')"
   ]
  },
  {
   "cell_type": "markdown",
   "id": "1cf2b52e",
   "metadata": {},
   "source": [
    "* # **Dictionary**"
   ]
  },
  {
   "cell_type": "code",
   "execution_count": 70,
   "id": "49885d15",
   "metadata": {},
   "outputs": [
    {
     "data": {
      "text/plain": [
       "'fat'"
      ]
     },
     "execution_count": 70,
     "metadata": {},
     "output_type": "execute_result"
    }
   ],
   "source": [
    "myCat = {'size': 'fat', 'color': 'gray', 'disposition': 'loud'}\n",
    "myCat['size']"
   ]
  },
  {
   "cell_type": "code",
   "execution_count": 72,
   "id": "a729551e",
   "metadata": {},
   "outputs": [
    {
     "data": {
      "text/plain": [
       "'My Cat has gray fur.'"
      ]
     },
     "execution_count": 72,
     "metadata": {},
     "output_type": "execute_result"
    }
   ],
   "source": [
    "'My Cat has ' + myCat['color'] + ' fur.'"
   ]
  },
  {
   "cell_type": "code",
   "execution_count": 75,
   "id": "d982e546",
   "metadata": {},
   "outputs": [
    {
     "data": {
      "text/plain": [
       "True"
      ]
     },
     "execution_count": 75,
     "metadata": {},
     "output_type": "execute_result"
    }
   ],
   "source": [
    "eggs = {'name': 'Sophie', 'species': 'cat', 'age': 8}\n",
    "ham = {'species': 'cat', 'age': 8, 'name': 'Sophie'}\n",
    "eggs == ham # Order doesn't matter in dictionaries"
   ]
  },
  {
   "cell_type": "code",
   "execution_count": 77,
   "id": "cf301a1c",
   "metadata": {},
   "outputs": [
    {
     "data": {
      "text/plain": [
       "['name', 'species', 'age']"
      ]
     },
     "execution_count": 77,
     "metadata": {},
     "output_type": "execute_result"
    }
   ],
   "source": [
    "list(eggs.keys())"
   ]
  },
  {
   "cell_type": "code",
   "execution_count": 78,
   "id": "a7d1ff88",
   "metadata": {},
   "outputs": [
    {
     "data": {
      "text/plain": [
       "['Sophie', 'cat', 8]"
      ]
     },
     "execution_count": 78,
     "metadata": {},
     "output_type": "execute_result"
    }
   ],
   "source": [
    "list(eggs.values())"
   ]
  },
  {
   "cell_type": "code",
   "execution_count": 79,
   "id": "598d65b5",
   "metadata": {},
   "outputs": [
    {
     "data": {
      "text/plain": [
       "[('name', 'Sophie'), ('species', 'cat'), ('age', 8)]"
      ]
     },
     "execution_count": 79,
     "metadata": {},
     "output_type": "execute_result"
    }
   ],
   "source": [
    "list(eggs.items())"
   ]
  },
  {
   "cell_type": "code",
   "execution_count": 80,
   "id": "50ae90d7",
   "metadata": {},
   "outputs": [
    {
     "name": "stdout",
     "output_type": "stream",
     "text": [
      "name Sophie\n",
      "species cat\n",
      "age 8\n"
     ]
    }
   ],
   "source": [
    "for k, v in eggs.items():\n",
    "    print(k, v)"
   ]
  },
  {
   "cell_type": "code",
   "execution_count": 82,
   "id": "5fd04343",
   "metadata": {},
   "outputs": [
    {
     "name": "stdout",
     "output_type": "stream",
     "text": [
      "('name', 'Sophie')\n",
      "('species', 'cat')\n",
      "('age', 8)\n"
     ]
    }
   ],
   "source": [
    "for i in eggs.items():\n",
    "    print(i)"
   ]
  },
  {
   "cell_type": "code",
   "execution_count": 84,
   "id": "f9d799b0",
   "metadata": {},
   "outputs": [
    {
     "data": {
      "text/plain": [
       "8"
      ]
     },
     "execution_count": 84,
     "metadata": {},
     "output_type": "execute_result"
    }
   ],
   "source": [
    "eggs.get('age', 0)"
   ]
  },
  {
   "cell_type": "code",
   "execution_count": 85,
   "id": "01a48d35",
   "metadata": {},
   "outputs": [
    {
     "data": {
      "text/plain": [
       "'NOT EXIST!!!'"
      ]
     },
     "execution_count": 85,
     "metadata": {},
     "output_type": "execute_result"
    }
   ],
   "source": [
    "eggs.get('color', \"NOT EXIST!!!\")"
   ]
  },
  {
   "cell_type": "code",
   "execution_count": 87,
   "id": "38658255",
   "metadata": {},
   "outputs": [
    {
     "data": {
      "text/plain": [
       "{'name': 'Sophie', 'species': 'cat', 'age': 8, 'color': 'black'}"
      ]
     },
     "execution_count": 87,
     "metadata": {},
     "output_type": "execute_result"
    }
   ],
   "source": [
    "eggs.setdefault('color', 'black')\n",
    "eggs"
   ]
  },
  {
   "cell_type": "code",
   "execution_count": 92,
   "id": "766b3df0",
   "metadata": {},
   "outputs": [
    {
     "name": "stdout",
     "output_type": "stream",
     "text": [
      "{' ': 13,\n",
      " ',': 1,\n",
      " '.': 1,\n",
      " 'A': 5,\n",
      " 'B': 1,\n",
      " 'C': 3,\n",
      " 'D': 3,\n",
      " 'E': 5,\n",
      " 'G': 2,\n",
      " 'H': 3,\n",
      " 'I': 7,\n",
      " 'K': 2,\n",
      " 'L': 3,\n",
      " 'N': 4,\n",
      " 'O': 2,\n",
      " 'P': 1,\n",
      " 'R': 5,\n",
      " 'S': 3,\n",
      " 'T': 6,\n",
      " 'W': 2,\n",
      " 'Y': 1}\n"
     ]
    }
   ],
   "source": [
    "import pprint\n",
    "message = \"It was a bright cold day in April, and the clocks were striking thirteen.\"\n",
    "count = {}\n",
    "\n",
    "for character in message.upper():\n",
    "    count.setdefault(character, 0)\n",
    "    count[character] = count[character] + 1\n",
    "\n",
    "ftext = pprint.pformat(count)\n",
    "pprint.pprint(count)\n"
   ]
  },
  {
   "cell_type": "code",
   "execution_count": 93,
   "id": "3b5186c2",
   "metadata": {},
   "outputs": [
    {
     "data": {
      "text/plain": [
       "\"{' ': 13,\\n ',': 1,\\n '.': 1,\\n 'A': 5,\\n 'B': 1,\\n 'C': 3,\\n 'D': 3,\\n 'E': 5,\\n 'G': 2,\\n 'H': 3,\\n 'I': 7,\\n 'K': 2,\\n 'L': 3,\\n 'N': 4,\\n 'O': 2,\\n 'P': 1,\\n 'R': 5,\\n 'S': 3,\\n 'T': 6,\\n 'W': 2,\\n 'Y': 1}\""
      ]
     },
     "execution_count": 93,
     "metadata": {},
     "output_type": "execute_result"
    }
   ],
   "source": [
    "ftext"
   ]
  },
  {
   "cell_type": "markdown",
   "id": "17040361",
   "metadata": {},
   "source": [
    "#### TIC-TAC-TOE BOARD"
   ]
  },
  {
   "cell_type": "code",
   "execution_count": 95,
   "id": "46d4eb55",
   "metadata": {},
   "outputs": [
    {
     "data": {
      "text/plain": [
       "{'top-L': ' ',\n",
       " 'top-M': ' ',\n",
       " 'top-R': ' ',\n",
       " 'mid-L': ' ',\n",
       " 'mid-M': ' ',\n",
       " 'mid-R': ' ',\n",
       " 'bot-L': ' ',\n",
       " 'bot-M': ' ',\n",
       " 'bot-R': ' '}"
      ]
     },
     "execution_count": 95,
     "metadata": {},
     "output_type": "execute_result"
    }
   ],
   "source": [
    "theBoard = {'top-L': ' ', 'top-M': ' ', 'top-R': ' ', 'mid-L': ' ', 'mid-M': ' ', 'mid-R': ' ', 'bot-L': ' ', 'bot-M': ' ', 'bot-R': ' '}\n",
    "theBoard"
   ]
  },
  {
   "cell_type": "code",
   "execution_count": 97,
   "id": "832cf9be",
   "metadata": {},
   "outputs": [
    {
     "name": "stdout",
     "output_type": "stream",
     "text": [
      " | | \n",
      "-----\n",
      " | | \n",
      "-----\n",
      " | | \n"
     ]
    }
   ],
   "source": [
    "def printBoard(board):\n",
    "    print(board['top-L'] + '|' + board['top-M'] + '|' + board['top-R'])\n",
    "    print('-----')\n",
    "    print(board['mid-L'] + '|' + board['mid-M'] + '|' + board['mid-R'])\n",
    "    print('-----')\n",
    "    print(board['bot-L'] + '|' + board['bot-M'] + '|' + board['bot-R'])\n",
    "    \n",
    "printBoard(theBoard)"
   ]
  },
  {
   "cell_type": "markdown",
   "id": "1b1cae28",
   "metadata": {},
   "source": [
    "---> next"
   ]
  },
  {
   "cell_type": "code",
   "execution_count": 1,
   "id": "196e7d8d",
   "metadata": {},
   "outputs": [],
   "source": [
    "def p (i):\n",
    "    if i>1:\n",
    "        p(i/2)\n",
    "        p(i/2)\n",
    "    print('X')\n",
    "        "
   ]
  },
  {
   "cell_type": "code",
   "execution_count": 2,
   "id": "81bd1f8e-acce-4007-a33d-e1bcc73d5e6d",
   "metadata": {},
   "outputs": [
    {
     "name": "stdout",
     "output_type": "stream",
     "text": [
      "X\n",
      "X\n",
      "X\n",
      "X\n",
      "X\n",
      "X\n",
      "X\n"
     ]
    }
   ],
   "source": [
    "p(4)"
   ]
  },
  {
   "cell_type": "code",
   "execution_count": null,
   "id": "3e5dd47c-5bc2-4fa2-a231-92b2d4bf6de7",
   "metadata": {},
   "outputs": [],
   "source": []
  }
 ],
 "metadata": {
  "kernelspec": {
   "display_name": "Python 3 (ipykernel)",
   "language": "python",
   "name": "python3"
  },
  "language_info": {
   "codemirror_mode": {
    "name": "ipython",
    "version": 3
   },
   "file_extension": ".py",
   "mimetype": "text/x-python",
   "name": "python",
   "nbconvert_exporter": "python",
   "pygments_lexer": "ipython3",
   "version": "3.8.12"
  }
 },
 "nbformat": 4,
 "nbformat_minor": 5
}
